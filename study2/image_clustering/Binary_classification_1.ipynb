{
 "cells": [
  {
   "cell_type": "code",
   "execution_count": 1,
   "id": "7f487e75",
   "metadata": {},
   "outputs": [
    {
     "name": "stderr",
     "output_type": "stream",
     "text": [
      "Using TensorFlow backend.\n"
     ]
    }
   ],
   "source": [
    "import warnings\n",
    "warnings.filterwarnings(\"ignore\")\n",
    "\n",
    "# for loading/processing the images  \n",
    "from keras.preprocessing.image import load_img \n",
    "from keras.preprocessing.image import img_to_array \n",
    "from keras.applications.vgg16 import preprocess_input \n",
    "\n",
    "# models \n",
    "from keras.applications.vgg16 import VGG16 \n",
    "from keras.models import Model\n",
    "\n",
    "# clustering and dimension reduction\n",
    "from sklearn.cluster import KMeans\n",
    "from sklearn.decomposition import PCA\n",
    "\n",
    "# for everything else\n",
    "import os\n",
    "import numpy as np\n",
    "import matplotlib.pyplot as plt\n",
    "from random import randint\n",
    "import pandas as pd\n",
    "import pickle"
   ]
  },
  {
   "cell_type": "code",
   "execution_count": 2,
   "id": "0de97f0f",
   "metadata": {},
   "outputs": [],
   "source": [
    "path = \"/data/kaggle/\"\n",
    "# change the working directory to the path where the images are located\n",
    "os.chdir(path)\n",
    "\n",
    "# this list holds all the image filename\n",
    "twitter = []\n",
    "\n",
    "# creates a ScandirIterator aliased as files\n",
    "with os.scandir(path) as files:\n",
    "  # loops through each file in the directory\n",
    "    for file in files:\n",
    "        if file.name.endswith('.jpg') or file.name.endswith('.png'):\n",
    "          # adds only the image files to the flowers list\n",
    "            twitter.append(file.name)"
   ]
  },
  {
   "cell_type": "code",
   "execution_count": 3,
   "id": "d37411de",
   "metadata": {},
   "outputs": [],
   "source": [
    "non_path = \"/data/images_downloaded_HPC/\"\n",
    "# change the working directory to the path where the images are located\n",
    "os.chdir(non_path)\n",
    "\n",
    "# this list holds all the image filename\n",
    "non_twitter = []\n",
    "\n",
    "# creates a ScandirIterator aliased as files\n",
    "with os.scandir(non_path) as files:\n",
    "  # loops through each file in the directory\n",
    "    for file in files:\n",
    "        if file.name.endswith('.jpg') or file.name.endswith('.png'):\n",
    "          # adds only the image files to the flowers list\n",
    "            non_twitter.append(file.name)"
   ]
  },
  {
   "cell_type": "code",
   "execution_count": 4,
   "id": "b22c071c",
   "metadata": {},
   "outputs": [],
   "source": [
    "# other_platforms_path = \"/Users/duyen/Desktop/CKIDS/twitter_screenshots_kaggle/other_platforms/\"\n",
    "# # change the working directory to the path where the images are located\n",
    "# os.chdir(other_platforms_path)\n",
    "\n",
    "# # this list holds all the image filename\n",
    "# other_platforms = []\n",
    "\n",
    "# # creates a ScandirIterator aliased as files\n",
    "# with os.scandir(other_platforms_path) as files:\n",
    "#   # loops through each file in the directory\n",
    "#     for file in files:\n",
    "#         if file.name.endswith('.jpg') or file.name.endswith('.png'):\n",
    "#           # adds only the image files to the flowers list\n",
    "#             other_platforms.append(file.name)"
   ]
  },
  {
   "cell_type": "code",
   "execution_count": 6,
   "id": "8a24cd7c",
   "metadata": {},
   "outputs": [
    {
     "name": "stderr",
     "output_type": "stream",
     "text": [
      "2023-03-28 23:20:44.786314: I tensorflow/core/platform/cpu_feature_guard.cc:142] Your CPU supports instructions that this TensorFlow binary was not compiled to use: AVX2 FMA\n",
      "2023-03-28 23:20:44.914658: I tensorflow/compiler/xla/service/service.cc:168] XLA service 0x7ffd072f61b0 executing computations on platform Host. Devices:\n",
      "2023-03-28 23:20:44.914775: I tensorflow/compiler/xla/service/service.cc:175]   StreamExecutor device (0): Host, Default Version\n"
     ]
    }
   ],
   "source": [
    "model = VGG16()\n",
    "model = Model(inputs = model.inputs, outputs = model.layers[-2].output)"
   ]
  },
  {
   "cell_type": "code",
   "execution_count": 7,
   "id": "fc54ce72",
   "metadata": {},
   "outputs": [],
   "source": [
    "def extract_features(file, model):\n",
    "    # load the image as a 224x224 array\n",
    "    img = load_img(file, target_size=(224,224))\n",
    "    # convert from 'PIL.Image.Image' to numpy array\n",
    "    img = np.array(img) \n",
    "    # reshape the data for the model reshape(num_of_samples, dim 1, dim 2, channels)\n",
    "    reshaped_img = img.reshape(1,224,224,3) \n",
    "    # prepare image for model\n",
    "    imgx = preprocess_input(reshaped_img)\n",
    "    # get the feature vector\n",
    "    features = model.predict(imgx, use_multiprocessing=True)\n",
    "    return features"
   ]
  },
  {
   "cell_type": "code",
   "execution_count": 8,
   "id": "4f82befc",
   "metadata": {},
   "outputs": [],
   "source": [
    "data = {}\n",
    "labels = {}\n",
    "# p = r\"/Users/duyen/Downloads/twitter_screenshots/twitter_labels.csv\""
   ]
  },
  {
   "cell_type": "code",
   "execution_count": 9,
   "id": "255d4b64",
   "metadata": {},
   "outputs": [],
   "source": [
    "# lop through each image in the dataset\n",
    "for t in twitter:\n",
    "    # try to extract the features and update the dictionary\n",
    "#     try:\n",
    "        feat = extract_features(path+t,model)\n",
    "        data[t] = feat\n",
    "        labels[t] = 1\n",
    "    # if something fails, save the extracted features as a pickle file (optional)\n",
    "#     except:\n",
    "#         with open(p,'wb') as file:\n",
    "#             pickle.dump(data,file)"
   ]
  },
  {
   "cell_type": "code",
   "execution_count": 10,
   "id": "7849ddf0",
   "metadata": {},
   "outputs": [],
   "source": [
    "# lop through each image in the dataset\n",
    "for t in non_twitter[:174]:\n",
    "    # try to extract the features and update the dictionary\n",
    "#     try:\n",
    "        feat = extract_features(non_path+t,model)\n",
    "        data[t] = feat\n",
    "        labels[t] = 0\n",
    "    # if something fails, save the extracted features as a pickle file (optional)\n",
    "#     except:\n",
    "#         with open(p,'wb') as file:\n",
    "#             pickle.dump(data,file)"
   ]
  },
  {
   "cell_type": "code",
   "execution_count": 11,
   "id": "fa3dd310",
   "metadata": {},
   "outputs": [],
   "source": [
    "feat = extract_features(non_path+t,model)"
   ]
  },
  {
   "cell_type": "code",
   "execution_count": 12,
   "id": "8a4100cc",
   "metadata": {},
   "outputs": [
    {
     "data": {
      "text/plain": [
       "'FPr4KRNXwAc_5-r.jpg'"
      ]
     },
     "execution_count": 12,
     "metadata": {},
     "output_type": "execute_result"
    }
   ],
   "source": [
    "t"
   ]
  },
  {
   "cell_type": "code",
   "execution_count": 13,
   "id": "1302393e",
   "metadata": {},
   "outputs": [],
   "source": [
    "# # lop through each image in the dataset\n",
    "# for t in other_platforms[:500]:\n",
    "#     # try to extract the features and update the dictionary\n",
    "# #     try:\n",
    "#         feat = extract_features(other_platforms_path+t,model)\n",
    "#         data[t] = feat\n",
    "#         labels[t] = 2\n",
    "#     # if something fails, save the extracted features as a pickle file (optional)\n",
    "# #     except:\n",
    "# #         with open(p,'wb') as file:\n",
    "# #             pickle.dump(data,file)"
   ]
  },
  {
   "cell_type": "code",
   "execution_count": 14,
   "id": "37d09bee",
   "metadata": {},
   "outputs": [
    {
     "name": "stdout",
     "output_type": "stream",
     "text": [
      "(348, 1, 4096)\n",
      "(348, 4096)\n"
     ]
    }
   ],
   "source": [
    "# get a list of the filenames\n",
    "filenames = np.array(list(data.keys()))\n",
    "\n",
    "# get a list of just the features\n",
    "feat = np.array(list(data.values()))\n",
    "print(feat.shape)\n",
    "# reshape so that there are 210 samples of 4096 vectors\n",
    "feat = feat.reshape(-1,4096)\n",
    "print(feat.shape)\n",
    "\n",
    "labels_ordered = np.array([labels[t] for t in filenames])\n",
    "# get the unique labels (from the twitter_labels.csv)\n",
    "# df = pd.read_csv('twitter_labels.csv')\n",
    "# label = df['label'].tolist()\n",
    "# unique_labels = list(set(label))\n",
    "unique_labels = [0, 1]\n",
    "# reduce the amount of dimensions in the feature vector\n",
    "pca = PCA(n_components=2, random_state=22)\n",
    "pca.fit(feat)\n",
    "x = pca.transform(feat)\n",
    "# pca_results_0 = [x[0]]\n",
    "# cluster feature vectors\n",
    "kmeans = KMeans(n_clusters=len(unique_labels), random_state=22)\n",
    "kmeans.fit(feat)\n",
    "clusters = kmeans.labels_\n"
   ]
  },
  {
   "cell_type": "code",
   "execution_count": 15,
   "id": "e08f3423",
   "metadata": {},
   "outputs": [],
   "source": [
    "# feat"
   ]
  },
  {
   "cell_type": "code",
   "execution_count": 16,
   "id": "79a61155",
   "metadata": {},
   "outputs": [],
   "source": [
    "# labels_ordered"
   ]
  },
  {
   "cell_type": "code",
   "execution_count": 17,
   "id": "db1fa61b",
   "metadata": {},
   "outputs": [],
   "source": [
    "# x"
   ]
  },
  {
   "cell_type": "code",
   "execution_count": 18,
   "id": "81ace05b",
   "metadata": {},
   "outputs": [],
   "source": [
    "# clusters"
   ]
  },
  {
   "cell_type": "code",
   "execution_count": 19,
   "id": "9177cfa0",
   "metadata": {},
   "outputs": [],
   "source": [
    "results_df = pd.DataFrame({'filename': filenames, 'label': labels_ordered, 'cluster': clusters, 'pca_0': x[:,0], 'pca_1': x[:,1]})"
   ]
  },
  {
   "cell_type": "code",
   "execution_count": 20,
   "id": "99dcbf02",
   "metadata": {},
   "outputs": [
    {
     "data": {
      "text/html": [
       "<div>\n",
       "<style scoped>\n",
       "    .dataframe tbody tr th:only-of-type {\n",
       "        vertical-align: middle;\n",
       "    }\n",
       "\n",
       "    .dataframe tbody tr th {\n",
       "        vertical-align: top;\n",
       "    }\n",
       "\n",
       "    .dataframe thead th {\n",
       "        text-align: right;\n",
       "    }\n",
       "</style>\n",
       "<table border=\"1\" class=\"dataframe\">\n",
       "  <thead>\n",
       "    <tr style=\"text-align: right;\">\n",
       "      <th></th>\n",
       "      <th>filename</th>\n",
       "      <th>label</th>\n",
       "      <th>cluster</th>\n",
       "      <th>pca_0</th>\n",
       "      <th>pca_1</th>\n",
       "    </tr>\n",
       "  </thead>\n",
       "  <tbody>\n",
       "    <tr>\n",
       "      <th>0</th>\n",
       "      <td>twitter_screenshot_42_de.jpg</td>\n",
       "      <td>1</td>\n",
       "      <td>1</td>\n",
       "      <td>12.846385</td>\n",
       "      <td>-19.341965</td>\n",
       "    </tr>\n",
       "    <tr>\n",
       "      <th>1</th>\n",
       "      <td>twitter_screenshot_50_de.jpg</td>\n",
       "      <td>1</td>\n",
       "      <td>1</td>\n",
       "      <td>26.447948</td>\n",
       "      <td>-6.397444</td>\n",
       "    </tr>\n",
       "    <tr>\n",
       "      <th>2</th>\n",
       "      <td>twitter_screenshot_144_en.jpg</td>\n",
       "      <td>1</td>\n",
       "      <td>1</td>\n",
       "      <td>-2.230496</td>\n",
       "      <td>-28.567430</td>\n",
       "    </tr>\n",
       "    <tr>\n",
       "      <th>3</th>\n",
       "      <td>twitter_screenshot_127_en.jpg</td>\n",
       "      <td>1</td>\n",
       "      <td>0</td>\n",
       "      <td>-10.575787</td>\n",
       "      <td>10.529452</td>\n",
       "    </tr>\n",
       "    <tr>\n",
       "      <th>4</th>\n",
       "      <td>twitter_screenshot_-2_en.jpg</td>\n",
       "      <td>1</td>\n",
       "      <td>1</td>\n",
       "      <td>14.183614</td>\n",
       "      <td>-11.898622</td>\n",
       "    </tr>\n",
       "    <tr>\n",
       "      <th>...</th>\n",
       "      <td>...</td>\n",
       "      <td>...</td>\n",
       "      <td>...</td>\n",
       "      <td>...</td>\n",
       "      <td>...</td>\n",
       "    </tr>\n",
       "    <tr>\n",
       "      <th>343</th>\n",
       "      <td>FPrm8aBWUAQcyX6.jpg</td>\n",
       "      <td>0</td>\n",
       "      <td>0</td>\n",
       "      <td>-27.565369</td>\n",
       "      <td>-1.315651</td>\n",
       "    </tr>\n",
       "    <tr>\n",
       "      <th>344</th>\n",
       "      <td>FMJPZw7XwAM4q9d.jpg</td>\n",
       "      <td>0</td>\n",
       "      <td>0</td>\n",
       "      <td>-26.811808</td>\n",
       "      <td>11.191564</td>\n",
       "    </tr>\n",
       "    <tr>\n",
       "      <th>345</th>\n",
       "      <td>FM64r8AXoAA5KYk.jpg</td>\n",
       "      <td>0</td>\n",
       "      <td>0</td>\n",
       "      <td>-4.142871</td>\n",
       "      <td>4.331140</td>\n",
       "    </tr>\n",
       "    <tr>\n",
       "      <th>346</th>\n",
       "      <td>BxmpPZLUAHsa81cs.jpg</td>\n",
       "      <td>0</td>\n",
       "      <td>0</td>\n",
       "      <td>-30.532158</td>\n",
       "      <td>4.778710</td>\n",
       "    </tr>\n",
       "    <tr>\n",
       "      <th>347</th>\n",
       "      <td>FPr4KRNXwAc_5-r.jpg</td>\n",
       "      <td>0</td>\n",
       "      <td>0</td>\n",
       "      <td>-27.192665</td>\n",
       "      <td>9.345451</td>\n",
       "    </tr>\n",
       "  </tbody>\n",
       "</table>\n",
       "<p>348 rows × 5 columns</p>\n",
       "</div>"
      ],
      "text/plain": [
       "                          filename  label  cluster      pca_0      pca_1\n",
       "0     twitter_screenshot_42_de.jpg      1        1  12.846385 -19.341965\n",
       "1     twitter_screenshot_50_de.jpg      1        1  26.447948  -6.397444\n",
       "2    twitter_screenshot_144_en.jpg      1        1  -2.230496 -28.567430\n",
       "3    twitter_screenshot_127_en.jpg      1        0 -10.575787  10.529452\n",
       "4     twitter_screenshot_-2_en.jpg      1        1  14.183614 -11.898622\n",
       "..                             ...    ...      ...        ...        ...\n",
       "343            FPrm8aBWUAQcyX6.jpg      0        0 -27.565369  -1.315651\n",
       "344            FMJPZw7XwAM4q9d.jpg      0        0 -26.811808  11.191564\n",
       "345            FM64r8AXoAA5KYk.jpg      0        0  -4.142871   4.331140\n",
       "346           BxmpPZLUAHsa81cs.jpg      0        0 -30.532158   4.778710\n",
       "347            FPr4KRNXwAc_5-r.jpg      0        0 -27.192665   9.345451\n",
       "\n",
       "[348 rows x 5 columns]"
      ]
     },
     "execution_count": 20,
     "metadata": {},
     "output_type": "execute_result"
    }
   ],
   "source": [
    "results_df"
   ]
  },
  {
   "cell_type": "code",
   "execution_count": 21,
   "id": "6e4faf40",
   "metadata": {},
   "outputs": [
    {
     "data": {
      "image/png": "[encoded data removed]",
      "text/plain": [
       "<Figure size 500x500 with 1 Axes>"
      ]
     },
     "metadata": {},
     "output_type": "display_data"
    }
   ],
   "source": [
    "# library & dataset\n",
    "import seaborn as sns\n",
    "import matplotlib.pyplot as plt\n",
    "\n",
    "cluster_str = results_df['cluster'].replace({0: 'Cluster 0', 1: 'Cluster 1'})\n",
    "results_df_cluster = results_df\n",
    "results_df_cluster['cluster'] = list(cluster_str)\n",
    "# give a list to the marker argument\n",
    "sns.lmplot( x=\"pca_0\", y=\"pca_1\", data=results_df_cluster, fit_reg=False, hue='cluster', legend=False)\n",
    " \n",
    "# Move the legend to an empty part of the plot\n",
    "plt.legend(loc='lower right')\n",
    "\n",
    "plt.show()"
   ]
  },
  {
   "cell_type": "code",
   "execution_count": 22,
   "id": "40d109f9",
   "metadata": {},
   "outputs": [
    {
     "data": {
      "image/png": "[encoded data removed]",
      "text/plain": [
       "<Figure size 500x500 with 1 Axes>"
      ]
     },
     "metadata": {},
     "output_type": "display_data"
    }
   ],
   "source": [
    "# library & dataset\n",
    "import seaborn as sns\n",
    "import matplotlib.pyplot as plt\n",
    " \n",
    "# give a list to the marker argument\n",
    "labels_str = results_df['label'].replace({0:'non-tweet' , 1: 'tweet'})\n",
    "results_df_label = results_df\n",
    "results_df_label['label'] = list(labels_str)\n",
    "sns.lmplot( x=\"pca_0\", y=\"pca_1\", data=results_df_label, fit_reg=False, hue='label', legend=False)\n",
    " \n",
    "# Move the legend to an empty part of the plot\n",
    "plt.legend(loc='lower right')\n",
    "\n",
    "plt.show()"
   ]
  },
  {
   "cell_type": "code",
   "execution_count": 23,
   "id": "65aa9ade",
   "metadata": {},
   "outputs": [
    {
     "data": {
      "text/html": [
       "<div>\n",
       "<style scoped>\n",
       "    .dataframe tbody tr th:only-of-type {\n",
       "        vertical-align: middle;\n",
       "    }\n",
       "\n",
       "    .dataframe tbody tr th {\n",
       "        vertical-align: top;\n",
       "    }\n",
       "\n",
       "    .dataframe thead th {\n",
       "        text-align: right;\n",
       "    }\n",
       "</style>\n",
       "<table border=\"1\" class=\"dataframe\">\n",
       "  <thead>\n",
       "    <tr style=\"text-align: right;\">\n",
       "      <th></th>\n",
       "      <th>filename</th>\n",
       "      <th>label</th>\n",
       "      <th>cluster</th>\n",
       "      <th>pca_0</th>\n",
       "      <th>pca_1</th>\n",
       "    </tr>\n",
       "  </thead>\n",
       "  <tbody>\n",
       "    <tr>\n",
       "      <th>0</th>\n",
       "      <td>twitter_screenshot_42_de.jpg</td>\n",
       "      <td>tweet</td>\n",
       "      <td>Cluster 1</td>\n",
       "      <td>12.846385</td>\n",
       "      <td>-19.341965</td>\n",
       "    </tr>\n",
       "    <tr>\n",
       "      <th>1</th>\n",
       "      <td>twitter_screenshot_50_de.jpg</td>\n",
       "      <td>tweet</td>\n",
       "      <td>Cluster 1</td>\n",
       "      <td>26.447948</td>\n",
       "      <td>-6.397444</td>\n",
       "    </tr>\n",
       "    <tr>\n",
       "      <th>2</th>\n",
       "      <td>twitter_screenshot_144_en.jpg</td>\n",
       "      <td>tweet</td>\n",
       "      <td>Cluster 1</td>\n",
       "      <td>-2.230496</td>\n",
       "      <td>-28.567430</td>\n",
       "    </tr>\n",
       "    <tr>\n",
       "      <th>3</th>\n",
       "      <td>twitter_screenshot_127_en.jpg</td>\n",
       "      <td>tweet</td>\n",
       "      <td>Cluster 0</td>\n",
       "      <td>-10.575787</td>\n",
       "      <td>10.529452</td>\n",
       "    </tr>\n",
       "    <tr>\n",
       "      <th>4</th>\n",
       "      <td>twitter_screenshot_-2_en.jpg</td>\n",
       "      <td>tweet</td>\n",
       "      <td>Cluster 1</td>\n",
       "      <td>14.183614</td>\n",
       "      <td>-11.898622</td>\n",
       "    </tr>\n",
       "  </tbody>\n",
       "</table>\n",
       "</div>"
      ],
      "text/plain": [
       "                        filename  label    cluster      pca_0      pca_1\n",
       "0   twitter_screenshot_42_de.jpg  tweet  Cluster 1  12.846385 -19.341965\n",
       "1   twitter_screenshot_50_de.jpg  tweet  Cluster 1  26.447948  -6.397444\n",
       "2  twitter_screenshot_144_en.jpg  tweet  Cluster 1  -2.230496 -28.567430\n",
       "3  twitter_screenshot_127_en.jpg  tweet  Cluster 0 -10.575787  10.529452\n",
       "4   twitter_screenshot_-2_en.jpg  tweet  Cluster 1  14.183614 -11.898622"
      ]
     },
     "execution_count": 23,
     "metadata": {},
     "output_type": "execute_result"
    }
   ],
   "source": [
    "results_df.head()"
   ]
  },
  {
   "cell_type": "code",
   "execution_count": 24,
   "id": "9e5f1ed2",
   "metadata": {},
   "outputs": [
    {
     "name": "stdout",
     "output_type": "stream",
     "text": [
      "68\n"
     ]
    }
   ],
   "source": [
    "mis_ = []\n",
    "# a = 0\n",
    "for i in range(len(results_df)):\n",
    "#     print(results_df['filename'][i])\n",
    "    if results_df['label'][i] == 'tweet' and results_df['cluster'][i] == 'Cluster 0':\n",
    "        mis_.append(results_df['filename'][i])\n",
    "#         print(results_df['filename'][i])\n",
    "#         a += 1+\n",
    "    if results_df['label'][i] == 'non-tweet' and results_df['cluster'][i] == 'Cluster 1':\n",
    "        mis_.append(results_df['filename'][i])\n",
    "#         print(results_df['filename'][i])\n",
    "#         a += 1\n",
    "print(len(mis_))"
   ]
  },
  {
   "cell_type": "code",
   "execution_count": 25,
   "id": "f7a637f4",
   "metadata": {},
   "outputs": [],
   "source": [
    "preds = list(cluster_str.replace({'Cluster 0': 0, 'Cluster 1': 1}))\n",
    "labels = list(labels_str.replace({'non-tweet': 0, 'tweet': 1}))"
   ]
  },
  {
   "cell_type": "code",
   "execution_count": 26,
   "id": "15f36d21",
   "metadata": {},
   "outputs": [],
   "source": [
    "import numpy as np\n",
    "def k_mean_distance(data, cx, cy, i_centroid, cluster_labels):\n",
    "        distances = [np.sqrt((x-cx)**2+(y-cy)**2) for (x, y) in data[cluster_labels == i_centroid]]\n",
    "        return distances\n",
    "centroids = kmeans.cluster_centers_\n",
    "\n",
    "# calculate distance to each cluster center, 1/distance is used as prob\n",
    "probs = []\n",
    "for i in range(len(results_df)):\n",
    "    x = feat[i]\n",
    "    prob_dummy = [1/np.linalg.norm(x-c) for c in centroids]\n",
    "    probs.append(prob_dummy)"
   ]
  },
  {
   "cell_type": "code",
   "execution_count": 27,
   "id": "4f057234",
   "metadata": {},
   "outputs": [],
   "source": [
    "probs = np.array(probs)\n",
    "probs_norm = probs/np.sum(probs, axis=1,keepdims=True)"
   ]
  },
  {
   "cell_type": "code",
   "execution_count": 28,
   "id": "e0061a94",
   "metadata": {},
   "outputs": [
    {
     "data": {
      "text/plain": [
       "array([[0.37735718, 0.8267968 , 0.47321922, ..., 0.18707748, 0.650226  ,\n",
       "        0.9382131 ],\n",
       "       [0.04663981, 1.181343  , 0.25444734, ..., 0.56216985, 0.03212309,\n",
       "        1.8812017 ]], dtype=float32)"
      ]
     },
     "execution_count": 28,
     "metadata": {},
     "output_type": "execute_result"
    }
   ],
   "source": [
    "centroids"
   ]
  },
  {
   "cell_type": "code",
   "execution_count": 29,
   "id": "4c15790d",
   "metadata": {},
   "outputs": [],
   "source": [
    "# preds"
   ]
  },
  {
   "cell_type": "code",
   "execution_count": 30,
   "id": "88fa145d",
   "metadata": {},
   "outputs": [],
   "source": [
    "# labels"
   ]
  },
  {
   "cell_type": "code",
   "execution_count": 31,
   "id": "3f66aa97",
   "metadata": {},
   "outputs": [
    {
     "name": "stdout",
     "output_type": "stream",
     "text": [
      "ROC AUC Score: 0.8045977011494253 , Accuracy Score: 0.8045977011494253 , F1 Score: 0.8162162162162163 , Precision Score: 0.7704081632653061 , Recall Score: 0.867816091954023\n"
     ]
    }
   ],
   "source": [
    "from sklearn.metrics import roc_auc_score, accuracy_score, f1_score, precision_score, recall_score\n",
    "\n",
    "print(\n",
    "    'ROC AUC Score:', roc_auc_score(labels, preds),\n",
    "    ', Accuracy Score:', accuracy_score(labels, preds), ', F1 Score:', f1_score(labels, preds)\n",
    "    , ', Precision Score:', precision_score(labels, preds), ', Recall Score:', recall_score(labels, preds))"
   ]
  }
 ],
 "metadata": {
  "kernelspec": {
   "display_name": "Python 3 (ipykernel)",
   "language": "python",
   "name": "python3"
  },
  "language_info": {
   "codemirror_mode": {
    "name": "ipython",
    "version": 3
   },
   "file_extension": ".py",
   "mimetype": "text/x-python",
   "name": "python",
   "nbconvert_exporter": "python",
   "pygments_lexer": "ipython3",
   "version": "3.7.11"
  }
 },
 "nbformat": 4,
 "nbformat_minor": 5
}
