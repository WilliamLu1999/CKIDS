{
 "cells": [
  {
   "cell_type": "code",
   "execution_count": null,
   "id": "bcb8c72c-0041-4252-b42f-77eca19dd9a6",
   "metadata": {},
   "outputs": [],
   "source": [
    "import pandas as pd\n",
    "import numpy as np\n",
    "import urllib.request \n",
    "import os\n",
    "import glob\n",
    "import os.path\n",
    "import csv\n",
    "import re"
   ]
  },
  {
   "cell_type": "code",
   "execution_count": null,
   "id": "68c17fe3-8b64-4bb0-a320-92825e66ba5a",
   "metadata": {},
   "outputs": [],
   "source": [
    "file_paths=[]\n",
    "# after we loop through the folder and get every csv file, we go inside the csv file and grab links for each csv file\n",
    "path_2022_03 = \"/project/ll_774_951/uk_ru/twitter/data/2022-03/*.csv\"\n",
    "for fname in glob.glob(path_2022_03):\n",
    "    file_paths.append(fname)\n",
    "print(len(file_paths),'csv files in the 2022-03 folder')\n",
    "#file_path"
   ]
  },
  {
   "cell_type": "code",
   "execution_count": null,
   "id": "d7053230-191e-4681-af2d-86887f5f82d9",
   "metadata": {},
   "outputs": [],
   "source": [
    "#ath = \"/project/ll_774_951/uk_ru/twitter/data/2022-03/ukraine_russia-2022-03-16-00.csv\"\n",
    "def combine_df(path,counter):\n",
    "    # combine all files three columns (media_urls, rt_media_urls, q_media_urls) into one list\n",
    "    # and store it to a csv file\n",
    "    special_char = \",]['\"\n",
    "    image_links=pd.DataFrame(index=['urls'])\n",
    "    for csv in path: # try 2 files\n",
    "        df = pd.read_csv(csv,engine='python', error_bad_lines=False)\n",
    "        df_urls = df[['media_urls','rt_media_urls','q_media_urls']]\n",
    "        df_all_urls = df_urls.melt(value_name='urls')[['urls']] # into single column\n",
    "        download_1 = df_all_urls.loc[df_all_urls.urls.str.contains('http', na=False)]\n",
    "        download_1 = download_1.replace(\"\\[\\'\",'',regex=True)\n",
    "        download_1 = download_1.replace(\"\\'\\]\",'',regex=True)\n",
    "        download_1 = download_1.replace(\"\\,\",'',regex=True)\n",
    "        # download_list_1 = download_1[\"urls\"].tolist()\n",
    "        # downloads_1 = [''.join(x for x in string if not x in special_char) for string in download_list_1]\n",
    "        #downloads_set =set(downloads_1)\n",
    "        #downloads_list =list(downloads_set)\n",
    "        image_links.append(download_1, ignore_index=True)\n",
    "    # flat_image_links = list(np.concatenate(image_links)) # it was a list of lists\n",
    "    # flat_image_links_set = set(flat_image_links)\n",
    "    # flat_image_links_list = list(flat_image_links_set)\n",
    "    # ls_csv_one_column = flat_image_links_list.to_csv(str(counter)+'.csv')\n",
    "    ## need to change the above line for storing the csv to the correct path on HPC\n",
    "    image_links.to_csv(os.path.join('/project/ll_774_951/uk_ru/twitter/one_column_urls/',str(counter)+'.csv'))\n",
    "    return image_links # listofurls"
   ]
  },
  {
   "cell_type": "code",
   "execution_count": null,
   "id": "3315f01b-0d34-45a3-bd37-8d222f059b51",
   "metadata": {},
   "outputs": [],
   "source": [
    "def download_images(one_column_csv):\n",
    "    df = pd.read_csv('/project/ll_774_951/uk_ru/twitter/one_column_urls/'+str(one_column_csv)+'.csv')\n",
    "    try:\n",
    "        for link in df:\n",
    "            urllib.request.urlretrieve(link,'/project/ll_774_951/uk_ru/twitter/twitter_images2/'+os.path.basename(link))\n",
    "    except:\n",
    "        pass"
   ]
  },
  {
   "cell_type": "code",
   "execution_count": null,
   "id": "59f75152-1c5e-4ddb-8ecb-1f0597a4305b",
   "metadata": {},
   "outputs": [],
   "source": [
    "batch_size = 1\n",
    "counter = 0 # define a counter so that we can keep track which csv file we have download already\n",
    "for i in range(0,len(file_paths[0:1]),batch_size):\n",
    "    counter+=1\n",
    "    Batch = file_paths[i:i+batch_size]\n",
    "    single_column_csv=combine_df(Batch,counter)\n",
    "    download_images(single_column_csv)\n",
    "    print('success'+str(counter))"
   ]
  }
 ],
 "metadata": {
  "kernelspec": {
   "display_name": "Python 3 (ipykernel)",
   "language": "python",
   "name": "python3"
  },
  "language_info": {
   "codemirror_mode": {
    "name": "ipython",
    "version": 3
   },
   "file_extension": ".py",
   "mimetype": "text/x-python",
   "name": "python",
   "nbconvert_exporter": "python",
   "pygments_lexer": "ipython3",
   "version": "3.9.2"
  }
 },
 "nbformat": 4,
 "nbformat_minor": 5
}
