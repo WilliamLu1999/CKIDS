{
 "cells": [
  {
   "cell_type": "code",
   "execution_count": null,
   "id": "31172156",
   "metadata": {},
   "outputs": [],
   "source": [
    "import pandas as pd\n",
    "import numpy as np\n",
    "import urllib.request \n",
    "import os\n",
    "import glob\n",
    "import os.path\n",
    "import csv\n",
    "import re"
   ]
  },
  {
   "cell_type": "code",
   "execution_count": null,
   "id": "2a1e701e",
   "metadata": {},
   "outputs": [],
   "source": [
    "file_paths=[]\n",
    "# after we loop through the folder and get every csv file, we go inside the csv file and grab links for each csv file\n",
    "path_2022_02 = \"/project/ll_774_951/uk_ru/twitter/data/2022-02/*.csv\"\n",
    "for fname in glob.glob(path_2022_02):\n",
    "    file_paths.append(fname)\n",
    "print(len(file_paths),'csv files in the 2022-02 folder')"
   ]
  },
  {
   "cell_type": "code",
   "execution_count": null,
   "id": "46c82599",
   "metadata": {},
   "outputs": [],
   "source": [
    "def combine_df(batch):\n",
    "    temp_lst = []\n",
    "    for csv_path in batch:\n",
    "        tempdf = pd.read_csv(csv_path)\n",
    "        df_new = pd.Dataframe()\n",
    "        df_new['media1'] = tempdf['media_urls']\n",
    "        df_new['media2'] = tempdf['rt_media_urls']\n",
    "        df_new['media3'] = tempdf['q_media_urls']\n",
    "        temp_lst.append(Df_new)\n",
    "    return temp_lst"
   ]
  },
  {
   "cell_type": "code",
   "execution_count": null,
   "id": "9a08d527",
   "metadata": {},
   "outputs": [],
   "source": [
    "batch_size = 50\n",
    "counter = 0 # define a counter so that we can keep track which csv file we have download already\n",
    "for i in range(0,len(file_paths),batch_size)：\n",
    "    counter+=1\n",
    "    Batch = file_paths[i:i+batch_size]\n",
    "    df_lst=combine_df(Batch)\n",
    "    res_df = pd.concat(df_lst)\n",
    "    res_df.to_csv('/project/ll_774_951/uk_ru/twitter/step1'+str(counter)+'.csv',index=False)\n",
    "    print('success'+str(counter))"
   ]
  }
 ],
 "metadata": {
  "kernelspec": {
   "display_name": "Python 3 (ipykernel)",
   "language": "python",
   "name": "python3"
  },
  "language_info": {
   "codemirror_mode": {
    "name": "ipython",
    "version": 3
   },
   "file_extension": ".py",
   "mimetype": "text/x-python",
   "name": "python",
   "nbconvert_exporter": "python",
   "pygments_lexer": "ipython3",
   "version": "3.9.12"
  }
 },
 "nbformat": 4,
 "nbformat_minor": 5
}
