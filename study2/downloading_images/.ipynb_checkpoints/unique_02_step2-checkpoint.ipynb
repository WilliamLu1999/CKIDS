{
 "cells": [
  {
   "cell_type": "code",
   "execution_count": null,
   "id": "248b3bfd",
   "metadata": {},
   "outputs": [],
   "source": [
    "import pandas as pd\n",
    "import numpy as np\n",
    "import urllib.request \n",
    "import os\n",
    "import glob\n",
    "import os.path\n",
    "import csv\n",
    "import re"
   ]
  },
  {
   "cell_type": "code",
   "execution_count": null,
   "id": "525176a9",
   "metadata": {},
   "outputs": [],
   "source": [
    "new_file_path=[]\n",
    "path_2022_02 = \"/project/ll_774_951/uk_ru/twitter/step1/*.csv\"\n",
    "for fname in glob.glob(path_2022_02):\n",
    "    new_file_path.append(fname)"
   ]
  },
  {
   "cell_type": "code",
   "execution_count": null,
   "id": "0e88e9de",
   "metadata": {},
   "outputs": [],
   "source": [
    "new_list = []\n",
    "special_char = \",]['\"\n",
    "for csv_path in new_file_path:\n",
    "    tempdf = pd.read_csv(csv_path,engine='python',error_bad_lines=False)\n",
    "    new_list.append(tempdf)\n",
    "final_df = pd.concat(new_list)"
   ]
  },
  {
   "cell_type": "code",
   "execution_count": null,
   "id": "e9d9e8d2",
   "metadata": {},
   "outputs": [],
   "source": [
    "def find_unique(final_df):\n",
    "    df_all_urls = final_df.melt(value_name='urls')[['urls']] # into single column\n",
    "    download_1 = df_all_urls.loc[df_all_urls.urls.str.contains('http', na=False)]\n",
    "    download_1 = download_1.replace(\"\\[\\'\",'',regex=True)\n",
    "    download_1 = download_1.replace(\"\\'\\]\",'',regex=True)\n",
    "    download_1 = download_1.replace(\"\\,\",'',regex=True)\n",
    "    download_1 = download_1.drop_duplicates()\n",
    "    return download_1 # a one column dataframe"
   ]
  },
  {
   "cell_type": "code",
   "execution_count": null,
   "id": "97b426f3",
   "metadata": {},
   "outputs": [],
   "source": [
    "one_col_uni_url = find_unique(final_df)\n",
    "one_col_uni_url.to_csv('/project/ll_774_951/uk_ru/twitter/step2/csv_2022_02_url.csv',index=False)"
   ]
  }
 ],
 "metadata": {
  "kernelspec": {
   "display_name": "Python 3 (ipykernel)",
   "language": "python",
   "name": "python3"
  },
  "language_info": {
   "codemirror_mode": {
    "name": "ipython",
    "version": 3
   },
   "file_extension": ".py",
   "mimetype": "text/x-python",
   "name": "python",
   "nbconvert_exporter": "python",
   "pygments_lexer": "ipython3",
   "version": "3.9.12"
  }
 },
 "nbformat": 4,
 "nbformat_minor": 5
}
