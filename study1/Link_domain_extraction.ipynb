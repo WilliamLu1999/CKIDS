{
 "cells": [
  {
   "cell_type": "code",
   "execution_count": 1,
   "id": "b8974a75-bb29-41f4-863e-50e407c885fa",
   "metadata": {},
   "outputs": [],
   "source": [
    "import pandas as pd\n",
    "import numpy as np\n",
    "from urllib.request import urlopen\n",
    "from urllib.parse import urlparse, parse_qs\n",
    "import os\n",
    "from ast import literal_eval"
   ]
  },
  {
   "cell_type": "code",
   "execution_count": 5,
   "id": "b3106545-52cc-4a5b-a5db-65e1820343ae",
   "metadata": {},
   "outputs": [],
   "source": [
    "directory = '/project/ll_774_951/uk_ru/twitter/data/2022-02'\n",
    "save_directory1 = '/scratch1/jinyiy/link_count'\n",
    "save_directory2 = '/scratch1/jinyiy/link_fulldata'\n",
    "filenames =['ukraine_russia-2022-02-22-04.csv', 'ukraine_russia-2022-02-22-05.csv']"
   ]
  },
  {
   "cell_type": "code",
   "execution_count": 10,
   "id": "e83eb960-9e67-4dfa-885b-806e41e81c07",
   "metadata": {},
   "outputs": [
    {
     "name": "stdout",
     "output_type": "stream",
     "text": [
      "/project/ll_774_951/uk_ru/twitter/data/2022-02/ukraine_russia-2022-02-22-04.csv processing...\n",
      "df created\n",
      "/project/ll_774_951/uk_ru/twitter/data/2022-02/ukraine_russia-2022-02-22-05.csv processing...\n",
      "df created\n"
     ]
    }
   ],
   "source": [
    "for filename in filenames:\n",
    "    f = os.path.join(directory, filename)\n",
    "    print(f, 'processing...')\n",
    "    df = pd.read_csv(f, error_bad_lines = False, engine = 'python', warn_bad_lines = False)\n",
    "    print('df created')\n",
    "    "
   ]
  },
  {
   "cell_type": "code",
   "execution_count": null,
   "id": "18c2e7de-4891-44c3-a0a0-7fad367b15b4",
   "metadata": {},
   "outputs": [],
   "source": [
    "for filename in filenames:\n",
    "    try: \n",
    "        f = os.path.join(directory, filename)\n",
    "        print(f, 'processing...')\n",
    "\n",
    "        df = pd.read_pickle(f, compression='infer')\n",
    "        df = pd.DataFrame(df)\n",
    "\n",
    "        df['expandedLink'] = df['expandedLinks'].apply(pd.Series)[0].apply(pd.Series).iloc[:,1]\n",
    "        df['domain'] = df['expandedLink'].apply(lambda x: urlparse(str(x)).netloc)\n",
    "\n",
    "        link_df = pd.DataFrame(df['expandedLink'].groupby(df['type']).value_counts())\n",
    "        link_df = link_df.add_suffix('_Count').reset_index()\n",
    "        link_df['domain'] = link_df['expandedLink'].apply(lambda x: urlparse(str(x)).netloc)\n",
    "        link_df = link_df.sort_values('expandedLink_Count',ascending=False).reset_index()\n",
    "\n",
    "        link_df_50 = link_df.sort_values('expandedLink_Count',ascending=False)[0:50].reset_index()\n",
    "        link_df_50_fulldata = pd.DataFrame()\n",
    "        for link in link_df_50['expandedLink']:\n",
    "            link_df_50_fulldata = link_df_50_fulldata.append(df.loc[df['expandedLink'] == link])\n",
    "\n",
    "        s1 = os.path.join(save_directory1, filename + \".csv\")\n",
    "        link_df.to_csv(s1, sep=',')\n",
    "        print(filename, 'completed1')\n",
    "        \n",
    "        s2 = os.path.join(save_directory2, filename + \".csv\")\n",
    "        link_df_50_fulldata.to_csv(s2, sep=',')\n",
    "        print(filename, 'completed2')\n",
    "    \n",
    "    except:\n",
    "        continue"
   ]
  },
  {
   "cell_type": "code",
   "execution_count": null,
   "id": "7bcb2d77-fc02-4c16-ba09-e9a1f8b7ec16",
   "metadata": {},
   "outputs": [],
   "source": [
    "# Get a dataframe of all the link_count files, rank the links and save to csv\n",
    "total_link_count = pd.DataFrame()\n",
    "for file in sorted(os.listdir(save_directory1)):\n",
    "    f = os.path.join(save_directory1, file)\n",
    "    df = pd.read_csv(f)\n",
    "    total_link_count = total_link_count.append(df)\n",
    "    print(file, 'completed')\n",
    "    "
   ]
  },
  {
   "cell_type": "code",
   "execution_count": null,
   "id": "e554c59e-000a-4743-bf7c-696220e544ba",
   "metadata": {},
   "outputs": [],
   "source": [
    "total_link_count.head()"
   ]
  },
  {
   "cell_type": "code",
   "execution_count": null,
   "id": "66cd0329-0f4e-423e-9679-854e2f00a42e",
   "metadata": {},
   "outputs": [],
   "source": [
    "total_link_count.to_csv('/scratch1/jinyiy/total_link_raw.csv', sep=',')"
   ]
  },
  {
   "cell_type": "code",
   "execution_count": null,
   "id": "e8ea3f0e-afd4-4854-b179-5680c7a6e5b3",
   "metadata": {},
   "outputs": [],
   "source": [
    "total_link_count = pd.read_csv('/scratch1/jinyiy/total_link_raw.csv', sep=',')"
   ]
  },
  {
   "cell_type": "code",
   "execution_count": null,
   "id": "e7643b42-9790-40b6-b1c1-72dbc313f132",
   "metadata": {},
   "outputs": [],
   "source": [
    "total_link_count = total_link_count.groupby('expandedLink').sum().reset_index()"
   ]
  },
  {
   "cell_type": "code",
   "execution_count": null,
   "id": "88fef846-c28b-4d3b-866a-7cbea03c1df5",
   "metadata": {},
   "outputs": [],
   "source": [
    "total_link_count['domain'] = total_link_count['expandedLink'].apply(lambda x: urlparse(str(x)).netloc)"
   ]
  },
  {
   "cell_type": "code",
   "execution_count": null,
   "id": "d7dfe486-3077-4df1-856b-23b26328e52f",
   "metadata": {},
   "outputs": [],
   "source": [
    "total_link_count = total_link_count.sort_values('expandedLink_Count', ascending=False).reset_index()"
   ]
  },
  {
   "cell_type": "code",
   "execution_count": null,
   "id": "5ab39088-e353-4948-bdb0-00a810b37a52",
   "metadata": {},
   "outputs": [],
   "source": [
    "total_link_count = total_link_count.drop('level_0', axis=1)\n",
    "total_link_count = total_link_count.drop('index', axis=1)\n",
    "total_link_count"
   ]
  },
  {
   "cell_type": "code",
   "execution_count": null,
   "id": "6a78940d-c61c-498c-82d1-29e68f93a42a",
   "metadata": {},
   "outputs": [],
   "source": [
    "total_link_count.to_csv('/scratch1/jinyiy/total_link_count.csv', sep=',')"
   ]
  },
  {
   "cell_type": "code",
   "execution_count": null,
   "id": "466cd384-81c1-4da8-bbe1-cbbd8b43e901",
   "metadata": {},
   "outputs": [],
   "source": [
    "total_link_count[0:1000].to_csv('/scratch1/jinyiy/top1000_link.csv', sep=',')"
   ]
  },
  {
   "cell_type": "code",
   "execution_count": null,
   "id": "f861574a-d20b-44be-a697-a2f63e481fb6",
   "metadata": {},
   "outputs": [],
   "source": [
    "total_link_count = pd.read_csv('/scratch1/jinyiy/total_link_count.csv', sep=',')"
   ]
  },
  {
   "cell_type": "code",
   "execution_count": null,
   "id": "124d69b2-f54d-46b8-bce3-d42bac7647cd",
   "metadata": {},
   "outputs": [],
   "source": [
    "total_domain_count = total_link_count.groupby('domain').sum().reset_index()"
   ]
  },
  {
   "cell_type": "code",
   "execution_count": null,
   "id": "698401eb-83c3-4a55-858d-0bcebd596a6c",
   "metadata": {},
   "outputs": [],
   "source": [
    "total_domain_count = total_domain_count.sort_values('expandedLink_Count', ascending=False).reset_index()"
   ]
  },
  {
   "cell_type": "code",
   "execution_count": null,
   "id": "8e881810-ab16-4fce-8067-bebfd78aca28",
   "metadata": {},
   "outputs": [],
   "source": [
    "total_domain_count = total_domain_count.drop('index', axis=1)\n",
    "total_domain_count = total_domain_count.drop('Unnamed: 0', axis=1)\n",
    "total_domain_count"
   ]
  },
  {
   "cell_type": "code",
   "execution_count": null,
   "id": "50276721-58a6-4b93-a855-64968b5f34b7",
   "metadata": {},
   "outputs": [],
   "source": [
    "total_domain_count.to_csv('/scratch1/jinyiy/total_domain_count.csv', sep=',')"
   ]
  },
  {
   "cell_type": "code",
   "execution_count": null,
   "id": "c1e868f9-2487-423d-a30f-9731f88c579d",
   "metadata": {},
   "outputs": [],
   "source": [
    "total_domain_count[0:1000].to_csv('/scratch1/jinyiy/top1000_domain.csv', sep=',')"
   ]
  },
  {
   "cell_type": "code",
   "execution_count": null,
   "id": "466ece8b-10f2-4749-af9d-44f09c0e6135",
   "metadata": {},
   "outputs": [],
   "source": [
    "# Get a dataframe of all the link_fulldata files and save to csv\n",
    "total_link_data_1 = pd.DataFrame()\n",
    "for file in filenames:\n",
    "    f = os.path.join(save_directory2, file)\n",
    "    df = pd.read_csv(f)\n",
    "    total_link_data_1 = total_link_data_1.append(df)\n",
    "    print(file, 'completed')"
   ]
  },
  {
   "cell_type": "code",
   "execution_count": null,
   "id": "327951c5-10bf-4f4b-bcb4-ca3e1773b642",
   "metadata": {},
   "outputs": [],
   "source": [
    "total_link_data_1.to_csv('/scratch1/jinyiy/total_link_data1.csv', sep=',')"
   ]
  },
  {
   "cell_type": "code",
   "execution_count": null,
   "id": "2d4f96d0-b555-48e7-b5cd-c22a71e58a4b",
   "metadata": {},
   "outputs": [],
   "source": [
    "# Get posts regarding specific URLs\n",
    "doc_df = pd.read_csv('/scratch1/jinyiy/total_link_data1.csv')"
   ]
  },
  {
   "cell_type": "code",
   "execution_count": null,
   "id": "ba047053-03c9-459e-a953-72e425c75f69",
   "metadata": {},
   "outputs": [],
   "source": [
    "doc_df2 = pd.read_csv('/scratch1/jinyiy/total_link_data2.csv')"
   ]
  },
  {
   "cell_type": "code",
   "execution_count": null,
   "id": "71892fd8-4880-48f8-86b5-2664e29f12f0",
   "metadata": {},
   "outputs": [],
   "source": [
    "doc_df3 = pd.read_csv('/scratch1/jinyiy/total_link_data3.csv')"
   ]
  },
  {
   "cell_type": "code",
   "execution_count": null,
   "id": "b046cf03-237f-4f89-bc9c-aefffde66f86",
   "metadata": {},
   "outputs": [],
   "source": [
    "urls = []\n",
    "save_directory = '/scratch1/jinyiy/URL_top50'\n",
    "\n",
    "for i in range(len(urls)):\n",
    "    df = pd.DataFrame()\n",
    "    print('Searching', urls[i], '...')\n",
    "    for doc in [doc_df, doc_df2, doc_df3]:\n",
    "        df = df.append(doc.loc[doc['expandedLink'] == urls[i]])\n",
    "    print('Search complete', urls[i])\n",
    "    s = os.path.join(save_directory, \"url_\" + str(i+1) + \".csv\")\n",
    "    df.to_csv(s, sep=',')\n",
    "    print(s, 'saved!')\n",
    "        \n",
    "    "
   ]
  },
  {
   "cell_type": "code",
   "execution_count": null,
   "id": "ab4338f8-f9d7-4d70-b39d-c0c27f8bc64a",
   "metadata": {},
   "outputs": [],
   "source": [
    "doc_df2.loc[doc_df2['expandedLink'] == 'https://instagram.com/iloveanimals.group?utm_medium=copy_link']"
   ]
  },
  {
   "cell_type": "code",
   "execution_count": 2,
   "id": "b0d96964-056d-44c0-ad89-46381a98d177",
   "metadata": {},
   "outputs": [],
   "source": [
    "# plotting by date\n",
    "import plotly.express as px\n",
    "import plotly.graph_objs as go"
   ]
  },
  {
   "cell_type": "code",
   "execution_count": 3,
   "id": "d6563af8-ab49-4cd2-9ecf-47b0ea451661",
   "metadata": {},
   "outputs": [
    {
     "data": {
      "text/html": [
       "<div>\n",
       "<style scoped>\n",
       "    .dataframe tbody tr th:only-of-type {\n",
       "        vertical-align: middle;\n",
       "    }\n",
       "\n",
       "    .dataframe tbody tr th {\n",
       "        vertical-align: top;\n",
       "    }\n",
       "\n",
       "    .dataframe thead th {\n",
       "        text-align: right;\n",
       "    }\n",
       "</style>\n",
       "<table border=\"1\" class=\"dataframe\">\n",
       "  <thead>\n",
       "    <tr style=\"text-align: right;\">\n",
       "      <th></th>\n",
       "      <th>date</th>\n",
       "      <th>counts</th>\n",
       "    </tr>\n",
       "  </thead>\n",
       "  <tbody>\n",
       "    <tr>\n",
       "      <th>0</th>\n",
       "      <td>2022-03-06</td>\n",
       "      <td>774</td>\n",
       "    </tr>\n",
       "    <tr>\n",
       "      <th>1</th>\n",
       "      <td>2022-03-07</td>\n",
       "      <td>628</td>\n",
       "    </tr>\n",
       "    <tr>\n",
       "      <th>2</th>\n",
       "      <td>2022-03-08</td>\n",
       "      <td>881</td>\n",
       "    </tr>\n",
       "    <tr>\n",
       "      <th>3</th>\n",
       "      <td>2022-03-09</td>\n",
       "      <td>878</td>\n",
       "    </tr>\n",
       "    <tr>\n",
       "      <th>4</th>\n",
       "      <td>2022-03-10</td>\n",
       "      <td>1056</td>\n",
       "    </tr>\n",
       "    <tr>\n",
       "      <th>...</th>\n",
       "      <td>...</td>\n",
       "      <td>...</td>\n",
       "    </tr>\n",
       "    <tr>\n",
       "      <th>72</th>\n",
       "      <td>2022-05-17</td>\n",
       "      <td>638</td>\n",
       "    </tr>\n",
       "    <tr>\n",
       "      <th>73</th>\n",
       "      <td>2022-05-18</td>\n",
       "      <td>735</td>\n",
       "    </tr>\n",
       "    <tr>\n",
       "      <th>74</th>\n",
       "      <td>2022-05-19</td>\n",
       "      <td>748</td>\n",
       "    </tr>\n",
       "    <tr>\n",
       "      <th>75</th>\n",
       "      <td>2022-05-20</td>\n",
       "      <td>679</td>\n",
       "    </tr>\n",
       "    <tr>\n",
       "      <th>76</th>\n",
       "      <td>2022-05-21</td>\n",
       "      <td>427</td>\n",
       "    </tr>\n",
       "  </tbody>\n",
       "</table>\n",
       "<p>77 rows × 2 columns</p>\n",
       "</div>"
      ],
      "text/plain": [
       "         date  counts\n",
       "0  2022-03-06     774\n",
       "1  2022-03-07     628\n",
       "2  2022-03-08     881\n",
       "3  2022-03-09     878\n",
       "4  2022-03-10    1056\n",
       "..        ...     ...\n",
       "72 2022-05-17     638\n",
       "73 2022-05-18     735\n",
       "74 2022-05-19     748\n",
       "75 2022-05-20     679\n",
       "76 2022-05-21     427\n",
       "\n",
       "[77 rows x 2 columns]"
      ]
     },
     "execution_count": 3,
     "metadata": {},
     "output_type": "execute_result"
    }
   ],
   "source": [
    "df = pd.read_csv('/scratch1/jinyiy/URL_top50/url_1.csv', sep=',')\n",
    "df['day'] = df['date'].apply(lambda x: x.split()[0])\n",
    "by_date = pd.Series(df['day']).value_counts().sort_index()\n",
    "by_date.index = pd.DatetimeIndex(by_date.index)\n",
    "df_date = by_date.rename_axis('date').reset_index(name='counts')\n",
    "df_date"
   ]
  },
  {
   "cell_type": "code",
   "execution_count": 4,
   "id": "812aa0f0-097c-4af7-9395-5106b3e49914",
   "metadata": {},
   "outputs": [
    {
     "ename": "ValueError",
     "evalue": "\nImage export using the \"kaleido\" engine requires the kaleido package,\nwhich can be installed using pip:\n    $ pip install -U kaleido\n",
     "output_type": "error",
     "traceback": [
      "\u001b[0;31m---------------------------------------------------------------------------\u001b[0m",
      "\u001b[0;31mValueError\u001b[0m                                Traceback (most recent call last)",
      "\u001b[0;32m/tmp/SLURM_11679152/ipykernel_37627/3604249066.py\u001b[0m in \u001b[0;36m<module>\u001b[0;34m\u001b[0m\n\u001b[1;32m      6\u001b[0m                    \u001b[0;34m\"yaxis\"\u001b[0m\u001b[0;34m:\u001b[0m \u001b[0;34m{\u001b[0m\u001b[0;34m\"title\"\u001b[0m\u001b[0;34m:\u001b[0m\u001b[0;34m\"Total posts\"\u001b[0m\u001b[0;34m}\u001b[0m\u001b[0;34m,\u001b[0m\u001b[0;34m\u001b[0m\u001b[0;34m\u001b[0m\u001b[0m\n\u001b[1;32m      7\u001b[0m                    \"showlegend\": False})\n\u001b[0;32m----> 8\u001b[0;31m \u001b[0mfig\u001b[0m\u001b[0;34m.\u001b[0m\u001b[0mwrite_image\u001b[0m\u001b[0;34m(\u001b[0m\u001b[0;34m'/scratch1/jinyiy/URL_top50/url_1.png'\u001b[0m\u001b[0;34m)\u001b[0m\u001b[0;34m\u001b[0m\u001b[0;34m\u001b[0m\u001b[0m\n\u001b[0m",
      "\u001b[0;32m~/.local/lib/python3.9/site-packages/plotly/basedatatypes.py\u001b[0m in \u001b[0;36mwrite_image\u001b[0;34m(self, *args, **kwargs)\u001b[0m\n\u001b[1;32m   3827\u001b[0m         \u001b[0;32mimport\u001b[0m \u001b[0mplotly\u001b[0m\u001b[0;34m.\u001b[0m\u001b[0mio\u001b[0m \u001b[0;32mas\u001b[0m \u001b[0mpio\u001b[0m\u001b[0;34m\u001b[0m\u001b[0;34m\u001b[0m\u001b[0m\n\u001b[1;32m   3828\u001b[0m \u001b[0;34m\u001b[0m\u001b[0m\n\u001b[0;32m-> 3829\u001b[0;31m         \u001b[0;32mreturn\u001b[0m \u001b[0mpio\u001b[0m\u001b[0;34m.\u001b[0m\u001b[0mwrite_image\u001b[0m\u001b[0;34m(\u001b[0m\u001b[0mself\u001b[0m\u001b[0;34m,\u001b[0m \u001b[0;34m*\u001b[0m\u001b[0margs\u001b[0m\u001b[0;34m,\u001b[0m \u001b[0;34m**\u001b[0m\u001b[0mkwargs\u001b[0m\u001b[0;34m)\u001b[0m\u001b[0;34m\u001b[0m\u001b[0;34m\u001b[0m\u001b[0m\n\u001b[0m\u001b[1;32m   3830\u001b[0m \u001b[0;34m\u001b[0m\u001b[0m\n\u001b[1;32m   3831\u001b[0m     \u001b[0;31m# Static helpers\u001b[0m\u001b[0;34m\u001b[0m\u001b[0;34m\u001b[0m\u001b[0;34m\u001b[0m\u001b[0m\n",
      "\u001b[0;32m~/.local/lib/python3.9/site-packages/plotly/io/_kaleido.py\u001b[0m in \u001b[0;36mwrite_image\u001b[0;34m(fig, file, format, scale, width, height, validate, engine)\u001b[0m\n\u001b[1;32m    265\u001b[0m     \u001b[0;31m# -------------\u001b[0m\u001b[0;34m\u001b[0m\u001b[0;34m\u001b[0m\u001b[0;34m\u001b[0m\u001b[0m\n\u001b[1;32m    266\u001b[0m     \u001b[0;31m# Do this first so we don't create a file if image conversion fails\u001b[0m\u001b[0;34m\u001b[0m\u001b[0;34m\u001b[0m\u001b[0;34m\u001b[0m\u001b[0m\n\u001b[0;32m--> 267\u001b[0;31m     img_data = to_image(\n\u001b[0m\u001b[1;32m    268\u001b[0m         \u001b[0mfig\u001b[0m\u001b[0;34m,\u001b[0m\u001b[0;34m\u001b[0m\u001b[0;34m\u001b[0m\u001b[0m\n\u001b[1;32m    269\u001b[0m         \u001b[0mformat\u001b[0m\u001b[0;34m=\u001b[0m\u001b[0mformat\u001b[0m\u001b[0;34m,\u001b[0m\u001b[0;34m\u001b[0m\u001b[0;34m\u001b[0m\u001b[0m\n",
      "\u001b[0;32m~/.local/lib/python3.9/site-packages/plotly/io/_kaleido.py\u001b[0m in \u001b[0;36mto_image\u001b[0;34m(fig, format, width, height, scale, validate, engine)\u001b[0m\n\u001b[1;32m    131\u001b[0m     \u001b[0;31m# Raise informative error message if Kaleido is not installed\u001b[0m\u001b[0;34m\u001b[0m\u001b[0;34m\u001b[0m\u001b[0;34m\u001b[0m\u001b[0m\n\u001b[1;32m    132\u001b[0m     \u001b[0;32mif\u001b[0m \u001b[0mscope\u001b[0m \u001b[0;32mis\u001b[0m \u001b[0;32mNone\u001b[0m\u001b[0;34m:\u001b[0m\u001b[0;34m\u001b[0m\u001b[0;34m\u001b[0m\u001b[0m\n\u001b[0;32m--> 133\u001b[0;31m         raise ValueError(\n\u001b[0m\u001b[1;32m    134\u001b[0m             \"\"\"\n\u001b[1;32m    135\u001b[0m \u001b[0mImage\u001b[0m \u001b[0mexport\u001b[0m \u001b[0musing\u001b[0m \u001b[0mthe\u001b[0m \u001b[0;34m\"kaleido\"\u001b[0m \u001b[0mengine\u001b[0m \u001b[0mrequires\u001b[0m \u001b[0mthe\u001b[0m \u001b[0mkaleido\u001b[0m \u001b[0mpackage\u001b[0m\u001b[0;34m,\u001b[0m\u001b[0;34m\u001b[0m\u001b[0;34m\u001b[0m\u001b[0m\n",
      "\u001b[0;31mValueError\u001b[0m: \nImage export using the \"kaleido\" engine requires the kaleido package,\nwhich can be installed using pip:\n    $ pip install -U kaleido\n"
     ]
    }
   ],
   "source": [
    "fig = go.Figure(data=go.Scatter(x=df_date['date'].astype(dtype=str), \n",
    "                                y=df_date['counts'],\n",
    "                                marker_color='black', text=\"counts\"))\n",
    "fig.update_layout({\"title\": 'Posts with link https://t.me/visnovosti Day by Day',\n",
    "                   \"xaxis\": {\"title\":\"Time\"},\n",
    "                   \"yaxis\": {\"title\":\"Total posts\"},\n",
    "                   \"showlegend\": False})\n",
    "fig.write_image('/scratch1/jinyiy/URL_top50/url_1.png') "
   ]
  },
  {
   "cell_type": "code",
   "execution_count": null,
   "id": "ae8cc6bd-52a5-42da-a49e-fd415ff9fac0",
   "metadata": {},
   "outputs": [],
   "source": [
    "! pip install -U kaleido"
   ]
  },
  {
   "cell_type": "code",
   "execution_count": null,
   "id": "22027575-770f-47c5-8e01-8db2c8275da5",
   "metadata": {},
   "outputs": [],
   "source": []
  }
 ],
 "metadata": {
  "kernelspec": {
   "display_name": "Python 3 (ipykernel)",
   "language": "python",
   "name": "python3"
  },
  "language_info": {
   "codemirror_mode": {
    "name": "ipython",
    "version": 3
   },
   "file_extension": ".py",
   "mimetype": "text/x-python",
   "name": "python",
   "nbconvert_exporter": "python",
   "pygments_lexer": "ipython3",
   "version": "3.9.2"
  }
 },
 "nbformat": 4,
 "nbformat_minor": 5
}
